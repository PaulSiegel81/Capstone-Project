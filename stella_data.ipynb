{
 "cells": [
  {
   "cell_type": "markdown",
   "metadata": {},
   "source": [
    "Collecting Data"
   ]
  },
  {
   "cell_type": "code",
   "execution_count": null,
   "metadata": {},
   "outputs": [],
   "source": [
    "import pandas as pd\n",
    "import requests as r\n",
    "import datetime"
   ]
  },
  {
   "cell_type": "code",
   "execution_count": null,
   "metadata": {},
   "outputs": [],
   "source": [
    "# modules and code to upload clean tables to DBeaver\n",
    "import sql_functions as sf\n",
    "import psycopg2"
   ]
  },
  {
   "cell_type": "code",
   "execution_count": null,
   "metadata": {},
   "outputs": [],
   "source": [
    "schema = 'capstone_anglianwater'\n",
    "engine = sf.get_engine()"
   ]
  },
  {
   "cell_type": "markdown",
   "metadata": {},
   "source": [
    "UK water supply price (1988-2023)"
   ]
  },
  {
   "cell_type": "code",
   "execution_count": null,
   "metadata": {},
   "outputs": [],
   "source": [
    "#read csv file\n",
    "water_supply_columns = ['date', 'value']\n",
    "water_supply = pd.read_csv('/Users/stellaxingli/neuefische/Tap_vs_Bottle/data/water_supply_price_UK.csv',\n",
    "                     names=water_supply_columns, \n",
    "                     skiprows = 188)"
   ]
  },
  {
   "cell_type": "markdown",
   "metadata": {},
   "source": [
    "\"CPI INDEX 04.4.1 : WATER SUPPLY 2015=100\" means that the Consumer Price Index for water supply was calculated in such a way that its value was set to 100 in the year 2015, and subsequent values represent changes in the price level of water supply relative to that base year. \n",
    "\n",
    "For example, if the index is 110 in a certain year, it would mean that water supply costs 10% more than it did in 2015."
   ]
  },
  {
   "cell_type": "code",
   "execution_count": null,
   "metadata": {},
   "outputs": [],
   "source": [
    "# change the column 'period' into datetime format\n",
    "water_supply['date'] = pd.to_datetime(water_supply['date'])\n"
   ]
  },
  {
   "cell_type": "code",
   "execution_count": null,
   "metadata": {},
   "outputs": [],
   "source": [
    "water_supply= water_supply.replace(',','.', regex=True)"
   ]
  },
  {
   "cell_type": "code",
   "execution_count": 9,
   "metadata": {},
   "outputs": [
    {
     "name": "stdout",
     "output_type": "stream",
     "text": [
      "<class 'pandas.core.frame.DataFrame'>\n",
      "RangeIndex: 432 entries, 0 to 431\n",
      "Data columns (total 2 columns):\n",
      " #   Column  Non-Null Count  Dtype         \n",
      "---  ------  --------------  -----         \n",
      " 0   date    432 non-null    datetime64[ns]\n",
      " 1   value   432 non-null    float64       \n",
      "dtypes: datetime64[ns](1), float64(1)\n",
      "memory usage: 6.9 KB\n",
      "None\n",
      "        date  value\n",
      "0 1988-01-01   21.2\n",
      "1 1988-02-01   21.2\n",
      "2 1988-03-01   21.2\n",
      "3 1988-04-01   22.5\n",
      "4 1988-05-01   22.5\n"
     ]
    }
   ],
   "source": [
    "# get the info and first 5 rows from the file\n",
    "print(water_supply.info())\n",
    "print(water_supply.head())"
   ]
  },
  {
   "cell_type": "code",
   "execution_count": null,
   "metadata": {},
   "outputs": [],
   "source": [
    "table_name = 'water_supply_price'\n",
    "if engine!=None:\n",
    "    try:\n",
    "        water_supply.to_sql(name=table_name, # Name of SQL table variable\n",
    "                        con=engine, # Engine or connection\n",
    "                        schema=schema, # your class schema variable\n",
    "                        if_exists='replace', # Drop the table before inserting new values \n",
    "                        index=False, # Write DataFrame index as a column\n",
    "                        chunksize=5000, # Specify the number of rows in each batch to be written at a time\n",
    "                        method='multi') # Pass multiple values in a single INSERT clause\n",
    "        print(f\"The {table_name} table was imported successfully.\")\n",
    "    # Error handling\n",
    "    except (Exception, psycopg2.DatabaseError) as error:\n",
    "        print(error)\n",
    "        engine = None\n",
    "else:\n",
    "    print('No engine')"
   ]
  }
 ],
 "metadata": {
  "kernelspec": {
   "display_name": "nf_sql",
   "language": "python",
   "name": "python3"
  },
  "language_info": {
   "codemirror_mode": {
    "name": "ipython",
    "version": 3
   },
   "file_extension": ".py",
   "mimetype": "text/x-python",
   "name": "python",
   "nbconvert_exporter": "python",
   "pygments_lexer": "ipython3",
   "version": "3.9.18"
  }
 },
 "nbformat": 4,
 "nbformat_minor": 2
}
